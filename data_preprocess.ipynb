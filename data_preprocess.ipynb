{
 "cells": [
  {
   "cell_type": "code",
   "execution_count": 1,
   "metadata": {},
   "outputs": [],
   "source": [
    "import pandas as pd"
   ]
  },
  {
   "cell_type": "code",
   "execution_count": 2,
   "metadata": {},
   "outputs": [],
   "source": [
    "df = pd.read_csv('datasets/full_df.csv')"
   ]
  },
  {
   "cell_type": "code",
   "execution_count": 3,
   "metadata": {},
   "outputs": [
    {
     "data": {
      "text/html": [
       "<div>\n",
       "<style scoped>\n",
       "    .dataframe tbody tr th:only-of-type {\n",
       "        vertical-align: middle;\n",
       "    }\n",
       "\n",
       "    .dataframe tbody tr th {\n",
       "        vertical-align: top;\n",
       "    }\n",
       "\n",
       "    .dataframe thead th {\n",
       "        text-align: right;\n",
       "    }\n",
       "</style>\n",
       "<table border=\"1\" class=\"dataframe\">\n",
       "  <thead>\n",
       "    <tr style=\"text-align: right;\">\n",
       "      <th></th>\n",
       "      <th>title</th>\n",
       "      <th>description</th>\n",
       "      <th>article_text</th>\n",
       "      <th>labels</th>\n",
       "    </tr>\n",
       "  </thead>\n",
       "  <tbody>\n",
       "    <tr>\n",
       "      <th>0</th>\n",
       "      <td>Ce club qui se moque ouvertement de Cristiano ...</td>\n",
       "      <td>Le président de Flamengo se moque ouvertement ...</td>\n",
       "      <td>Le président de Flamengo a rejeté les spécula...</td>\n",
       "      <td>football</td>\n",
       "    </tr>\n",
       "    <tr>\n",
       "      <th>1</th>\n",
       "      <td>Zidane, son avenir est acté : incroyable retou...</td>\n",
       "      <td>Libre depuis son départ du Real Madrid, Zinédi...</td>\n",
       "      <td>Alors qu'il n'a toujours pas retrouvé de banc...</td>\n",
       "      <td>football</td>\n",
       "    </tr>\n",
       "    <tr>\n",
       "      <th>2</th>\n",
       "      <td>Un nouvel adversaire pour l’Algérie en novembre</td>\n",
       "      <td>En plus de la Suède, l’Algérie de Belmadi va s...</td>\n",
       "      <td>L’équipe nationale algérienne sera de sortie ...</td>\n",
       "      <td>football</td>\n",
       "    </tr>\n",
       "    <tr>\n",
       "      <th>3</th>\n",
       "      <td>Troyes – Auxerre : diffusion TV, live streamin...</td>\n",
       "      <td>Où voir le match ? Heure du coup d'envoi, les ...</td>\n",
       "      <td>Un petit point sépare Troyes, douzième, d'Aux...</td>\n",
       "      <td>football</td>\n",
       "    </tr>\n",
       "    <tr>\n",
       "      <th>4</th>\n",
       "      <td>Stupeur : Gerard Piqué annonce sa retraite IMM...</td>\n",
       "      <td>Le défenseur du Barça a choqué le monde du foo...</td>\n",
       "      <td>Le défenseur central du FC Barcelone, Gerard ...</td>\n",
       "      <td>football</td>\n",
       "    </tr>\n",
       "  </tbody>\n",
       "</table>\n",
       "</div>"
      ],
      "text/plain": [
       "                                               title  \\\n",
       "0  Ce club qui se moque ouvertement de Cristiano ...   \n",
       "1  Zidane, son avenir est acté : incroyable retou...   \n",
       "2    Un nouvel adversaire pour l’Algérie en novembre   \n",
       "3  Troyes – Auxerre : diffusion TV, live streamin...   \n",
       "4  Stupeur : Gerard Piqué annonce sa retraite IMM...   \n",
       "\n",
       "                                         description  \\\n",
       "0  Le président de Flamengo se moque ouvertement ...   \n",
       "1  Libre depuis son départ du Real Madrid, Zinédi...   \n",
       "2  En plus de la Suède, l’Algérie de Belmadi va s...   \n",
       "3  Où voir le match ? Heure du coup d'envoi, les ...   \n",
       "4  Le défenseur du Barça a choqué le monde du foo...   \n",
       "\n",
       "                                        article_text    labels  \n",
       "0   Le président de Flamengo a rejeté les spécula...  football  \n",
       "1   Alors qu'il n'a toujours pas retrouvé de banc...  football  \n",
       "2   L’équipe nationale algérienne sera de sortie ...  football  \n",
       "3   Un petit point sépare Troyes, douzième, d'Aux...  football  \n",
       "4   Le défenseur central du FC Barcelone, Gerard ...  football  "
      ]
     },
     "execution_count": 3,
     "metadata": {},
     "output_type": "execute_result"
    }
   ],
   "source": [
    "df.head()"
   ]
  },
  {
   "cell_type": "code",
   "execution_count": 4,
   "metadata": {},
   "outputs": [
    {
     "data": {
      "text/plain": [
       "['football', 'autre']"
      ]
     },
     "execution_count": 4,
     "metadata": {},
     "output_type": "execute_result"
    }
   ],
   "source": [
    "df.labels.unique().tolist()"
   ]
  }
 ],
 "metadata": {
  "kernelspec": {
   "display_name": "Python 3.10.5 ('nlp1venv': venv)",
   "language": "python",
   "name": "python3"
  },
  "language_info": {
   "codemirror_mode": {
    "name": "ipython",
    "version": 3
   },
   "file_extension": ".py",
   "mimetype": "text/x-python",
   "name": "python",
   "nbconvert_exporter": "python",
   "pygments_lexer": "ipython3",
   "version": "3.10.5"
  },
  "orig_nbformat": 4,
  "vscode": {
   "interpreter": {
    "hash": "18ed7756c2c3de12423d20741d0692e8595fbdea64213c20cb0d55288de69ffa"
   }
  }
 },
 "nbformat": 4,
 "nbformat_minor": 2
}
