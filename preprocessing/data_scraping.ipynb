{
 "cells": [
  {
   "cell_type": "markdown",
   "metadata": {},
   "source": [
    "#### Import"
   ]
  },
  {
   "cell_type": "code",
   "execution_count": 10,
   "metadata": {},
   "outputs": [],
   "source": [
    "from bs4 import BeautifulSoup as bs\n",
    "import requests\n",
    "import pandas as pd"
   ]
  },
  {
   "cell_type": "markdown",
   "metadata": {},
   "source": [
    "source 1 : https://www.kaggle.com/datasets/guscor/covid19-french-news-dataset standard kaggle dataset <br />\n",
    "source 2 : https://www.goal.com/fr/news/1 scraped dataset"
   ]
  },
  {
   "cell_type": "code",
   "execution_count": 11,
   "metadata": {},
   "outputs": [],
   "source": [
    "url=\"https://www.goal.com/en/news/1\"\n",
    "response = requests.get(url)\n",
    "html = response.content"
   ]
  },
  {
   "cell_type": "code",
   "execution_count": 12,
   "metadata": {},
   "outputs": [],
   "source": [
    "soup = bs(html, \"html.parser\")"
   ]
  },
  {
   "cell_type": "code",
   "execution_count": 13,
   "metadata": {},
   "outputs": [],
   "source": [
    "goalcom_links = ['https://www.goal.com' + a['href'] for a in soup.find_all(\"a\", attrs={'data-testid': 'card-title-url'}) if a.text]"
   ]
  },
  {
   "cell_type": "code",
   "execution_count": 18,
   "metadata": {},
   "outputs": [],
   "source": [
    "goalcom_all_links = []\n",
    "for i in range(1, 11):\n",
    "    url=f\"https://www.goal.com/en/news/{i}\"\n",
    "    response = requests.get(url)\n",
    "    html = response.content\n",
    "    soup = bs(html, \"html.parser\")\n",
    "    goalcom_links = ['https://www.goal.com' + a['href'] for a in soup.find_all(\"a\", attrs={'data-testid': 'card-title-url'}) if a.text]\n",
    "    goalcom_all_links += goalcom_links"
   ]
  },
  {
   "cell_type": "code",
   "execution_count": 19,
   "metadata": {},
   "outputs": [],
   "source": [
    "goal_articles = []\n",
    "for link in goalcom_all_links:\n",
    "    try :\n",
    "        article = []\n",
    "        response = requests.get(link)\n",
    "        html = response.content\n",
    "        soup = bs(html, \"html.parser\")\n",
    "        title = soup.find(\"h1\", class_='article_title__JgCj9').get_text()\n",
    "        description = soup.find(\"p\", class_='article_teaser__tKE0q').get_text()\n",
    "        article_body = soup.find(\"div\", class_='body')\n",
    "        article_text = \"\"\n",
    "        for a in article_body.find_all([\"p\", \"h2\"]):\n",
    "            if \"To read\" not in a.text:\n",
    "                article_text += \" \" + a.text\n",
    "        article = [title, description, article_text]\n",
    "        goal_articles.append(article)\n",
    "    except:\n",
    "        pass\n",
    "\n",
    "df = pd.DataFrame(goal_articles, columns=['title', 'description', 'article_text'])\n",
    "df.to_csv('../datasets/goal_articles_en.csv')"
   ]
  },
  {
   "cell_type": "code",
   "execution_count": null,
   "metadata": {},
   "outputs": [],
   "source": []
  }
 ],
 "metadata": {
  "kernelspec": {
   "display_name": "Python 3.10.5 ('nlp1venv': venv)",
   "language": "python",
   "name": "python3"
  },
  "language_info": {
   "codemirror_mode": {
    "name": "ipython",
    "version": 3
   },
   "file_extension": ".py",
   "mimetype": "text/x-python",
   "name": "python",
   "nbconvert_exporter": "python",
   "pygments_lexer": "ipython3",
   "version": "3.10.5"
  },
  "orig_nbformat": 4,
  "vscode": {
   "interpreter": {
    "hash": "18ed7756c2c3de12423d20741d0692e8595fbdea64213c20cb0d55288de69ffa"
   }
  }
 },
 "nbformat": 4,
 "nbformat_minor": 2
}
