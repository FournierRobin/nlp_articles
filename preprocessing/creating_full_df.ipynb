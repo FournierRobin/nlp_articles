{
 "cells": [
  {
   "cell_type": "markdown",
   "metadata": {},
   "source": [
    "Import"
   ]
  },
  {
   "cell_type": "code",
   "execution_count": 97,
   "metadata": {},
   "outputs": [],
   "source": [
    "import pandas as pd"
   ]
  },
  {
   "cell_type": "code",
   "execution_count": 98,
   "metadata": {},
   "outputs": [],
   "source": [
    "df_news = pd.read_csv('../datasets/Articles.csv')\n",
    "df_goal = pd.read_csv('../datasets/goal_articles_en.csv')"
   ]
  },
  {
   "cell_type": "code",
   "execution_count": 116,
   "metadata": {},
   "outputs": [],
   "source": [
    "df_goal = df_goal.dropna()\n",
    "df_news = df_news.dropna()"
   ]
  },
  {
   "cell_type": "code",
   "execution_count": 99,
   "metadata": {},
   "outputs": [
    {
     "data": {
      "text/html": [
       "<div>\n",
       "<style scoped>\n",
       "    .dataframe tbody tr th:only-of-type {\n",
       "        vertical-align: middle;\n",
       "    }\n",
       "\n",
       "    .dataframe tbody tr th {\n",
       "        vertical-align: top;\n",
       "    }\n",
       "\n",
       "    .dataframe thead th {\n",
       "        text-align: right;\n",
       "    }\n",
       "</style>\n",
       "<table border=\"1\" class=\"dataframe\">\n",
       "  <thead>\n",
       "    <tr style=\"text-align: right;\">\n",
       "      <th></th>\n",
       "      <th>Article</th>\n",
       "      <th>Date</th>\n",
       "      <th>Heading</th>\n",
       "      <th>NewsType</th>\n",
       "    </tr>\n",
       "  </thead>\n",
       "  <tbody>\n",
       "    <tr>\n",
       "      <th>0</th>\n",
       "      <td>KARACHI: The Sindh government has decided to b...</td>\n",
       "      <td>1/1/2015</td>\n",
       "      <td>sindh govt decides to cut public transport far...</td>\n",
       "      <td>business</td>\n",
       "    </tr>\n",
       "    <tr>\n",
       "      <th>1</th>\n",
       "      <td>HONG KONG: Asian markets started 2015 on an up...</td>\n",
       "      <td>1/2/2015</td>\n",
       "      <td>asia stocks up in new year trad</td>\n",
       "      <td>business</td>\n",
       "    </tr>\n",
       "    <tr>\n",
       "      <th>2</th>\n",
       "      <td>HONG KONG:  Hong Kong shares opened 0.66 perce...</td>\n",
       "      <td>1/5/2015</td>\n",
       "      <td>hong kong stocks open 0.66 percent lower</td>\n",
       "      <td>business</td>\n",
       "    </tr>\n",
       "    <tr>\n",
       "      <th>3</th>\n",
       "      <td>HONG KONG: Asian markets tumbled Tuesday follo...</td>\n",
       "      <td>1/6/2015</td>\n",
       "      <td>asian stocks sink euro near nine year</td>\n",
       "      <td>business</td>\n",
       "    </tr>\n",
       "    <tr>\n",
       "      <th>4</th>\n",
       "      <td>NEW YORK: US oil prices Monday slipped below $...</td>\n",
       "      <td>1/6/2015</td>\n",
       "      <td>us oil prices slip below 50 a barr</td>\n",
       "      <td>business</td>\n",
       "    </tr>\n",
       "    <tr>\n",
       "      <th>...</th>\n",
       "      <td>...</td>\n",
       "      <td>...</td>\n",
       "      <td>...</td>\n",
       "      <td>...</td>\n",
       "    </tr>\n",
       "    <tr>\n",
       "      <th>2687</th>\n",
       "      <td>strong&gt;DUBAI: Dubai International Airport and ...</td>\n",
       "      <td>3/25/2017</td>\n",
       "      <td>Laptop ban hits Dubai for 11m weekend traveller</td>\n",
       "      <td>business</td>\n",
       "    </tr>\n",
       "    <tr>\n",
       "      <th>2688</th>\n",
       "      <td>strong&gt;BEIJING: Former Prime Minister, Shaukat...</td>\n",
       "      <td>3/26/2017</td>\n",
       "      <td>Pak China relations not against any third coun...</td>\n",
       "      <td>business</td>\n",
       "    </tr>\n",
       "    <tr>\n",
       "      <th>2689</th>\n",
       "      <td>strong&gt;WASHINGTON: Uber has grounded its fleet...</td>\n",
       "      <td>3/26/2017</td>\n",
       "      <td>Uber grounds self driving cars after accid</td>\n",
       "      <td>business</td>\n",
       "    </tr>\n",
       "    <tr>\n",
       "      <th>2690</th>\n",
       "      <td>strong&gt;BEIJING: The New Development Bank plans...</td>\n",
       "      <td>3/27/2017</td>\n",
       "      <td>New Development Bank plans joint investments i...</td>\n",
       "      <td>business</td>\n",
       "    </tr>\n",
       "    <tr>\n",
       "      <th>2691</th>\n",
       "      <td>strong&gt;KARACHI: Karachi-based technology incub...</td>\n",
       "      <td>3/27/2017</td>\n",
       "      <td>Google powered Startup Weekend energizing prou...</td>\n",
       "      <td>business</td>\n",
       "    </tr>\n",
       "  </tbody>\n",
       "</table>\n",
       "<p>2692 rows × 4 columns</p>\n",
       "</div>"
      ],
      "text/plain": [
       "                                                Article       Date  \\\n",
       "0     KARACHI: The Sindh government has decided to b...   1/1/2015   \n",
       "1     HONG KONG: Asian markets started 2015 on an up...   1/2/2015   \n",
       "2     HONG KONG:  Hong Kong shares opened 0.66 perce...   1/5/2015   \n",
       "3     HONG KONG: Asian markets tumbled Tuesday follo...   1/6/2015   \n",
       "4     NEW YORK: US oil prices Monday slipped below $...   1/6/2015   \n",
       "...                                                 ...        ...   \n",
       "2687  strong>DUBAI: Dubai International Airport and ...  3/25/2017   \n",
       "2688  strong>BEIJING: Former Prime Minister, Shaukat...  3/26/2017   \n",
       "2689  strong>WASHINGTON: Uber has grounded its fleet...  3/26/2017   \n",
       "2690  strong>BEIJING: The New Development Bank plans...  3/27/2017   \n",
       "2691  strong>KARACHI: Karachi-based technology incub...  3/27/2017   \n",
       "\n",
       "                                                Heading  NewsType  \n",
       "0     sindh govt decides to cut public transport far...  business  \n",
       "1                       asia stocks up in new year trad  business  \n",
       "2              hong kong stocks open 0.66 percent lower  business  \n",
       "3                asian stocks sink euro near nine year   business  \n",
       "4                    us oil prices slip below 50 a barr  business  \n",
       "...                                                 ...       ...  \n",
       "2687    Laptop ban hits Dubai for 11m weekend traveller  business  \n",
       "2688  Pak China relations not against any third coun...  business  \n",
       "2689         Uber grounds self driving cars after accid  business  \n",
       "2690  New Development Bank plans joint investments i...  business  \n",
       "2691  Google powered Startup Weekend energizing prou...  business  \n",
       "\n",
       "[2692 rows x 4 columns]"
      ]
     },
     "execution_count": 99,
     "metadata": {},
     "output_type": "execute_result"
    }
   ],
   "source": [
    "df_news"
   ]
  },
  {
   "cell_type": "code",
   "execution_count": 100,
   "metadata": {},
   "outputs": [
    {
     "data": {
      "text/html": [
       "<div>\n",
       "<style scoped>\n",
       "    .dataframe tbody tr th:only-of-type {\n",
       "        vertical-align: middle;\n",
       "    }\n",
       "\n",
       "    .dataframe tbody tr th {\n",
       "        vertical-align: top;\n",
       "    }\n",
       "\n",
       "    .dataframe thead th {\n",
       "        text-align: right;\n",
       "    }\n",
       "</style>\n",
       "<table border=\"1\" class=\"dataframe\">\n",
       "  <thead>\n",
       "    <tr style=\"text-align: right;\">\n",
       "      <th></th>\n",
       "      <th>Unnamed: 0</th>\n",
       "      <th>title</th>\n",
       "      <th>description</th>\n",
       "      <th>article_text</th>\n",
       "    </tr>\n",
       "  </thead>\n",
       "  <tbody>\n",
       "    <tr>\n",
       "      <th>0</th>\n",
       "      <td>0</td>\n",
       "      <td>Pele reassures fans of health with social medi...</td>\n",
       "      <td>Brazil icon Pele updated fans worried about hi...</td>\n",
       "      <td>Pele has been undergoing chemotherapy for bow...</td>\n",
       "    </tr>\n",
       "    <tr>\n",
       "      <th>1</th>\n",
       "      <td>1</td>\n",
       "      <td>Messi is a footballing God! Argentina winners,...</td>\n",
       "      <td>Lionel Scaloni's side edged past Australia to ...</td>\n",
       "      <td>Lionel Messi has his first goal in the knocko...</td>\n",
       "    </tr>\n",
       "    <tr>\n",
       "      <th>2</th>\n",
       "      <td>2</td>\n",
       "      <td>Netherlands World Cup 2022 squad, predicted qu...</td>\n",
       "      <td>Who will get the nod from head coach Louis van...</td>\n",
       "      <td>The Netherlands are back at the World Cup aft...</td>\n",
       "    </tr>\n",
       "    <tr>\n",
       "      <th>3</th>\n",
       "      <td>3</td>\n",
       "      <td>Messi's best games for Argentina: From tearing...</td>\n",
       "      <td>GOAL runs through Lionel Messi's most memorabl...</td>\n",
       "      <td>Lionel Messi is in perhaps his final World Cu...</td>\n",
       "    </tr>\n",
       "    <tr>\n",
       "      <th>4</th>\n",
       "      <td>4</td>\n",
       "      <td>WATCH: Argentina rescued by Emiliano Martinez ...</td>\n",
       "      <td>Argentina needed goalkeeper Emiliano Martinez ...</td>\n",
       "      <td>WHAT HAPPENED? Australia had a chance to equa...</td>\n",
       "    </tr>\n",
       "    <tr>\n",
       "      <th>...</th>\n",
       "      <td>...</td>\n",
       "      <td>...</td>\n",
       "      <td>...</td>\n",
       "      <td>...</td>\n",
       "    </tr>\n",
       "    <tr>\n",
       "      <th>281</th>\n",
       "      <td>281</td>\n",
       "      <td>'Best believe I'll be ready!' - Injured Pulisi...</td>\n",
       "      <td>Christian Pulisic has vowed to be get fit for ...</td>\n",
       "      <td>WHAT HAPPENED? The USMNT got the better of Ir...</td>\n",
       "    </tr>\n",
       "    <tr>\n",
       "      <th>282</th>\n",
       "      <td>282</td>\n",
       "      <td>What do Mexico need to qualify for last 16 of ...</td>\n",
       "      <td>Tata Martino's men are winless in the 2022 Wor...</td>\n",
       "      <td>Mexico have a mountain to climb against Saudi...</td>\n",
       "    </tr>\n",
       "    <tr>\n",
       "      <th>283</th>\n",
       "      <td>283</td>\n",
       "      <td>Quiz! Name the all-time top goalscorers for Fr...</td>\n",
       "      <td>In honour of Day 11 at the 2022 World Cup, the...</td>\n",
       "      <td>France, Argentina, Mexico, Denmark, Australia...</td>\n",
       "    </tr>\n",
       "    <tr>\n",
       "      <th>284</th>\n",
       "      <td>284</td>\n",
       "      <td>Cristian Volpato: Roma's Australian wonderkid ...</td>\n",
       "      <td>The 19-year-old has impressed for Jose Mourinh...</td>\n",
       "      <td>Unfancied heading into the World Cup, Austral...</td>\n",
       "    </tr>\n",
       "    <tr>\n",
       "      <th>285</th>\n",
       "      <td>285</td>\n",
       "      <td>From Lautaro to De Paul: Argentina's disappear...</td>\n",
       "      <td>The captain kickstarted his country's campaign...</td>\n",
       "      <td>With one swing of his left foot, Lionel Messi...</td>\n",
       "    </tr>\n",
       "  </tbody>\n",
       "</table>\n",
       "<p>286 rows × 4 columns</p>\n",
       "</div>"
      ],
      "text/plain": [
       "     Unnamed: 0                                              title  \\\n",
       "0             0  Pele reassures fans of health with social medi...   \n",
       "1             1  Messi is a footballing God! Argentina winners,...   \n",
       "2             2  Netherlands World Cup 2022 squad, predicted qu...   \n",
       "3             3  Messi's best games for Argentina: From tearing...   \n",
       "4             4  WATCH: Argentina rescued by Emiliano Martinez ...   \n",
       "..          ...                                                ...   \n",
       "281         281  'Best believe I'll be ready!' - Injured Pulisi...   \n",
       "282         282  What do Mexico need to qualify for last 16 of ...   \n",
       "283         283  Quiz! Name the all-time top goalscorers for Fr...   \n",
       "284         284  Cristian Volpato: Roma's Australian wonderkid ...   \n",
       "285         285  From Lautaro to De Paul: Argentina's disappear...   \n",
       "\n",
       "                                           description  \\\n",
       "0    Brazil icon Pele updated fans worried about hi...   \n",
       "1    Lionel Scaloni's side edged past Australia to ...   \n",
       "2    Who will get the nod from head coach Louis van...   \n",
       "3    GOAL runs through Lionel Messi's most memorabl...   \n",
       "4    Argentina needed goalkeeper Emiliano Martinez ...   \n",
       "..                                                 ...   \n",
       "281  Christian Pulisic has vowed to be get fit for ...   \n",
       "282  Tata Martino's men are winless in the 2022 Wor...   \n",
       "283  In honour of Day 11 at the 2022 World Cup, the...   \n",
       "284  The 19-year-old has impressed for Jose Mourinh...   \n",
       "285  The captain kickstarted his country's campaign...   \n",
       "\n",
       "                                          article_text  \n",
       "0     Pele has been undergoing chemotherapy for bow...  \n",
       "1     Lionel Messi has his first goal in the knocko...  \n",
       "2     The Netherlands are back at the World Cup aft...  \n",
       "3     Lionel Messi is in perhaps his final World Cu...  \n",
       "4     WHAT HAPPENED? Australia had a chance to equa...  \n",
       "..                                                 ...  \n",
       "281   WHAT HAPPENED? The USMNT got the better of Ir...  \n",
       "282   Mexico have a mountain to climb against Saudi...  \n",
       "283   France, Argentina, Mexico, Denmark, Australia...  \n",
       "284   Unfancied heading into the World Cup, Austral...  \n",
       "285   With one swing of his left foot, Lionel Messi...  \n",
       "\n",
       "[286 rows x 4 columns]"
      ]
     },
     "execution_count": 100,
     "metadata": {},
     "output_type": "execute_result"
    }
   ],
   "source": [
    "df_goal"
   ]
  },
  {
   "cell_type": "markdown",
   "metadata": {},
   "source": [
    "Dropping unused column"
   ]
  },
  {
   "cell_type": "code",
   "execution_count": 101,
   "metadata": {},
   "outputs": [],
   "source": [
    "df_news = df_news.drop(columns=['Date', 'Heading', 'NewsType'])\n",
    "df_goal = df_goal.drop(columns=['title', 'Unnamed: 0', 'description'])"
   ]
  },
  {
   "cell_type": "code",
   "execution_count": 102,
   "metadata": {},
   "outputs": [],
   "source": [
    "df_goal['labels'] = 'football'\n",
    "df_news['labels'] = 'other'"
   ]
  },
  {
   "cell_type": "markdown",
   "metadata": {},
   "source": [
    "Renaming columns to concat"
   ]
  },
  {
   "cell_type": "code",
   "execution_count": 103,
   "metadata": {},
   "outputs": [],
   "source": [
    "df_news.rename(columns = {'Article':'article_text'}, inplace = True)"
   ]
  },
  {
   "cell_type": "code",
   "execution_count": 104,
   "metadata": {},
   "outputs": [],
   "source": [
    "import re"
   ]
  },
  {
   "cell_type": "code",
   "execution_count": 105,
   "metadata": {},
   "outputs": [],
   "source": [
    "df_news['article_text'] = df_news['article_text'].apply(lambda x: x.replace('\\r', '').replace('\\n', '').replace('  ', ''))\n",
    "df_news['article_text'] = df_news['article_text'].apply(lambda x: re.sub(r'^.*?: ', '', x))"
   ]
  },
  {
   "cell_type": "code",
   "execution_count": 118,
   "metadata": {},
   "outputs": [
    {
     "name": "stderr",
     "output_type": "stream",
     "text": [
      "/var/folders/y0/7mmq5kp12fq249dxyngjmwv80000gn/T/ipykernel_29069/1121725972.py:1: SettingWithCopyWarning: \n",
      "A value is trying to be set on a copy of a slice from a DataFrame.\n",
      "Try using .loc[row_indexer,col_indexer] = value instead\n",
      "\n",
      "See the caveats in the documentation: https://pandas.pydata.org/pandas-docs/stable/user_guide/indexing.html#returning-a-view-versus-a-copy\n",
      "  df_goal['article_text'] = df_goal['article_text'].apply(lambda x: x.replace('WHAT HAPPENED? ', '').replace('\\xa0', ' '))\n"
     ]
    }
   ],
   "source": [
    "df_goal['article_text'] = df_goal['article_text'].apply(lambda x: x.replace('WHAT HAPPENED? ', '').replace('\\xa0', ' '))"
   ]
  },
  {
   "cell_type": "markdown",
   "metadata": {},
   "source": [
    "Keeping only 300 articles of each categories"
   ]
  },
  {
   "cell_type": "code",
   "execution_count": 119,
   "metadata": {},
   "outputs": [],
   "source": [
    "df_news = df_news.iloc[:300]"
   ]
  },
  {
   "cell_type": "code",
   "execution_count": 120,
   "metadata": {},
   "outputs": [],
   "source": [
    "df = pd.concat([df_goal, df_news], ignore_index = True)"
   ]
  },
  {
   "cell_type": "markdown",
   "metadata": {},
   "source": [
    "Exporting full DataFrame to CSV "
   ]
  },
  {
   "cell_type": "code",
   "execution_count": 121,
   "metadata": {},
   "outputs": [],
   "source": [
    "df.to_csv('../datasets/full_df_en.csv', index=False)"
   ]
  },
  {
   "cell_type": "code",
   "execution_count": null,
   "metadata": {},
   "outputs": [],
   "source": []
  }
 ],
 "metadata": {
  "kernelspec": {
   "display_name": "Python 3.10.5 ('nlp1venv': venv)",
   "language": "python",
   "name": "python3"
  },
  "language_info": {
   "codemirror_mode": {
    "name": "ipython",
    "version": 3
   },
   "file_extension": ".py",
   "mimetype": "text/x-python",
   "name": "python",
   "nbconvert_exporter": "python",
   "pygments_lexer": "ipython3",
   "version": "3.10.5"
  },
  "orig_nbformat": 4,
  "vscode": {
   "interpreter": {
    "hash": "18ed7756c2c3de12423d20741d0692e8595fbdea64213c20cb0d55288de69ffa"
   }
  }
 },
 "nbformat": 4,
 "nbformat_minor": 2
}
